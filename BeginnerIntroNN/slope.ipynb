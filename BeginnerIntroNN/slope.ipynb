{
 "cells": [
  {
   "cell_type": "code",
   "execution_count": 45,
   "id": "cc5129df-bb52-4dc3-83da-ce1bc7b83a22",
   "metadata": {},
   "outputs": [],
   "source": [
    "import numpy as np\n",
    "\n",
    "def cost(current_value, actual_value):\n",
    "    return pow((current_value - actual_value), 2)\n",
    "\n",
    "def slope(current_value, actual_value, learning_rate = 0.0001):\n",
    "    return (cost(current_value + learning_rate, actual_value) - cost(current_value, actual_value)) / learning_rate\n",
    "\n",
    "def slope_derivative(current_value, actual_value, learning_rate = 0.0001):\n",
    "    # By the power rule ** become 2 *, inner\n",
    "    return 2 * (current_value - actual_value)\n",
    "    "
   ]
  },
  {
   "cell_type": "code",
   "execution_count": 48,
   "id": "ae13b62d-ea25-4e8e-b9c6-6f20b465b5a9",
   "metadata": {},
   "outputs": [
    {
     "name": "stdout",
     "output_type": "stream",
     "text": [
      "196\n",
      "169\n",
      "144\n",
      "121\n",
      "100\n",
      "81\n",
      "64\n",
      "49\n",
      "36\n",
      "25\n",
      "16\n",
      "9\n",
      "4\n",
      "1\n",
      "0\n",
      "1\n",
      "4\n",
      "9\n",
      "16\n",
      "25\n"
     ]
    }
   ],
   "source": [
    "'''\n",
    "    We are trying to predict actual value 4, data range from -10 to 10\n",
    "'''\n",
    "for x in range(-10,10,1):\n",
    "    print(cost(x, 4)) #actual value is 4"
   ]
  },
  {
   "cell_type": "code",
   "execution_count": 50,
   "id": "fe4f6bca-b4c0-401a-9555-4efad5d528fa",
   "metadata": {},
   "outputs": [
    {
     "data": {
      "text/plain": [
       "0"
      ]
     },
     "execution_count": 50,
     "metadata": {},
     "output_type": "execute_result"
    }
   ],
   "source": [
    "'''\n",
    "    Let's test our hypothesis is correct\n",
    "'''\n",
    "slope(3, 4)\n",
    "slope(4, 4)\n",
    "slope(5, 4)\n",
    "\n",
    "slope_derivative(3, 4)\n",
    "slope_derivative(4, 4)\n",
    "slope_derivative(5, 4)"
   ]
  }
 ],
 "metadata": {
  "kernelspec": {
   "display_name": "Python 3.7.6 64-bit",
   "language": "python",
   "name": "python37664bit52c43a8b57e04c11b7ae243a4050fcee"
  },
  "language_info": {
   "codemirror_mode": {
    "name": "ipython",
    "version": 3
   },
   "file_extension": ".py",
   "mimetype": "text/x-python",
   "name": "python",
   "nbconvert_exporter": "python",
   "pygments_lexer": "ipython3",
   "version": "3.9.1"
  }
 },
 "nbformat": 4,
 "nbformat_minor": 5
}
