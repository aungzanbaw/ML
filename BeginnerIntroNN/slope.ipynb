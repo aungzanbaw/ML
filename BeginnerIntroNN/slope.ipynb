{
 "cells": [
  {
   "cell_type": "code",
   "execution_count": 39,
   "id": "cc5129df-bb52-4dc3-83da-ce1bc7b83a22",
   "metadata": {},
   "outputs": [],
   "source": [
    "import numpy as np\n",
    "\n",
    "def cost(prediction, actual_value):\n",
    "    return pow((prediction - actual_value), 2)\n",
    "\n",
    "def slope(current_value, actual_value , learning_rate = 0.0001):\n",
    "    return (cost(current_value + learning_rate, actual_value) - cost(current_value, actual_value)) / learning_rate"
   ]
  },
  {
   "cell_type": "code",
   "execution_count": 40,
   "id": "ae13b62d-ea25-4e8e-b9c6-6f20b465b5a9",
   "metadata": {},
   "outputs": [
    {
     "name": "stdout",
     "output_type": "stream",
     "text": [
      "196\n",
      "169\n",
      "144\n",
      "121\n",
      "100\n",
      "81\n",
      "64\n",
      "49\n",
      "36\n",
      "25\n",
      "16\n",
      "9\n",
      "4\n",
      "1\n",
      "0\n",
      "1\n",
      "4\n",
      "9\n",
      "16\n",
      "25\n"
     ]
    }
   ],
   "source": [
    "'''\n",
    "    We are trying to predict actual value 4, data range from -10 to 10\n",
    "'''\n",
    "for x in range(-10,10,1):\n",
    "    print(cost(x, 4)) #actual value is 4"
   ]
  },
  {
   "cell_type": "code",
   "execution_count": 43,
   "id": "fe4f6bca-b4c0-401a-9555-4efad5d528fa",
   "metadata": {},
   "outputs": [
    {
     "data": {
      "text/plain": [
       "2.000099999994731"
      ]
     },
     "execution_count": 43,
     "metadata": {},
     "output_type": "execute_result"
    }
   ],
   "source": [
    "'''\n",
    "    Let's test our hypothesis is correct\n",
    "'''\n",
    "slope(3, 4)\n",
    "slope(4, 4)\n",
    "slope(5, 4)"
   ]
  }
 ],
 "metadata": {
  "kernelspec": {
   "display_name": "Python 3.7.6 64-bit",
   "language": "python",
   "name": "python37664bit52c43a8b57e04c11b7ae243a4050fcee"
  },
  "language_info": {
   "codemirror_mode": {
    "name": "ipython",
    "version": 3
   },
   "file_extension": ".py",
   "mimetype": "text/x-python",
   "name": "python",
   "nbconvert_exporter": "python",
   "pygments_lexer": "ipython3",
   "version": "3.9.1"
  }
 },
 "nbformat": 4,
 "nbformat_minor": 5
}
