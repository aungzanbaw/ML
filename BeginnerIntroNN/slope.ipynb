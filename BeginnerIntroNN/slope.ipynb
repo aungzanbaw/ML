{
 "cells": [
  {
   "cell_type": "code",
   "execution_count": 45,
   "id": "cc5129df-bb52-4dc3-83da-ce1bc7b83a22",
   "metadata": {},
   "outputs": [],
   "source": [
    "import numpy as np\n",
    "\n",
    "def cost(current_value, actual_value):\n",
    "    return pow((current_value - actual_value), 2)\n",
    "\n",
    "def slope(current_value, actual_value, learning_rate = 0.0001):\n",
    "    return (cost(current_value + learning_rate, actual_value) - cost(current_value, actual_value)) / learning_rate\n",
    "\n",
    "def slope_derivative(current_value, actual_value, learning_rate = 0.0001):\n",
    "    # By the power rule ** become 2 *, inner\n",
    "    return 2 * (current_value - actual_value)\n",
    "    "
   ]
  },
  {
   "cell_type": "code",
   "execution_count": 48,
   "id": "ae13b62d-ea25-4e8e-b9c6-6f20b465b5a9",
   "metadata": {},
   "outputs": [
    {
     "name": "stdout",
     "output_type": "stream",
     "text": [
      "196\n",
      "169\n",
      "144\n",
      "121\n",
      "100\n",
      "81\n",
      "64\n",
      "49\n",
      "36\n",
      "25\n",
      "16\n",
      "9\n",
      "4\n",
      "1\n",
      "0\n",
      "1\n",
      "4\n",
      "9\n",
      "16\n",
      "25\n"
     ]
    }
   ],
   "source": [
    "'''\n",
    "    We are trying to predict actual value 4, data range from -10 to 10\n",
    "'''\n",
    "for x in range(-10,10,1):\n",
    "    print(cost(x, 4)) #actual value is 4"
   ]
  },
  {
   "cell_type": "code",
   "execution_count": 193,
   "id": "fe4f6bca-b4c0-401a-9555-4efad5d528fa",
   "metadata": {},
   "outputs": [],
   "source": [
    "'''\n",
    "    Let's test our hypothesis is correct\n",
    "'''\n",
    "slope(3, 4)\n",
    "slope(4, 4)\n",
    "slope(5, 4)\n",
    "\n",
    "slope_derivative(3, 4)\n",
    "slope_derivative(4, 4)\n",
    "slope_derivative(5, 4)\n",
    "\n",
    "'''\n",
    "    we will test our slop is doing it's work with learning rate 10%\n",
    "    2 examples 8 and -20\n",
    "'''\n",
    "# train = 8\n",
    "train = -20"
   ]
  },
  {
   "cell_type": "code",
   "execution_count": 194,
   "id": "0c95ab78-335b-4c45-b91a-2a3b8b1c6064",
   "metadata": {},
   "outputs": [
    {
     "name": "stdout",
     "output_type": "stream",
     "text": [
      "-15.200009999962276\n",
      "-11.360017999966203\n",
      "-8.288024399992082\n",
      "-5.830429520007101\n",
      "-3.8643536160134317\n",
      "-2.291492892812812\n",
      "-1.033204314250895\n",
      "-0.026573451404203752\n",
      "0.7787312388738599\n",
      "1.4229749910970213\n",
      "1.938369992876794\n",
      "2.3506859943007896\n",
      "2.6805387954414073\n",
      "2.944421036353857\n",
      "3.155526829083506\n",
      "3.324411463267136\n",
      "3.459519170614007\n",
      "3.5676053364914373\n",
      "3.6540742691933312\n",
      "3.7232494153548217\n",
      "3.7785895322839833\n",
      "3.8228616258272794\n",
      "3.858279300661901\n",
      "3.8866134405295827\n",
      "3.9092807524237134\n",
      "3.92741460193901\n",
      "3.941921681551239\n",
      "3.9535273452410156\n",
      "3.962811876192832\n",
      "3.9702395009542815\n",
      "3.9761816007634376\n",
      "3.98093528061076\n",
      "3.9847382244886163\n",
      "3.9877805795908996\n",
      "3.9902144636727246\n",
      "3.9921615709381837\n",
      "3.99371925675055\n",
      "3.9949654054004426\n",
      "3.9959623243203564\n",
      "3.9967598594562865\n",
      "3.9973978875650307\n",
      "3.9979083100520256\n",
      "3.9983166480416212\n",
      "3.9986433184332975\n",
      "3.9989046547466387\n",
      "3.9991137237973113\n",
      "3.999280979037849\n",
      "3.9994147832302795\n",
      "3.999521826584224\n",
      "3.999607461267379\n"
     ]
    }
   ],
   "source": [
    "'''\n",
    "    We will run this cell until it match with 4\n",
    "    Training with loop is so naive, we will see better way later\n",
    "'''\n",
    "for i in range(50):\n",
    "    train = train - .1 * slope(train, 4)\n",
    "    print(train)"
   ]
  }
 ],
 "metadata": {
  "kernelspec": {
   "display_name": "Python 3.7.6 64-bit",
   "language": "python",
   "name": "python37664bit52c43a8b57e04c11b7ae243a4050fcee"
  },
  "language_info": {
   "codemirror_mode": {
    "name": "ipython",
    "version": 3
   },
   "file_extension": ".py",
   "mimetype": "text/x-python",
   "name": "python",
   "nbconvert_exporter": "python",
   "pygments_lexer": "ipython3",
   "version": "3.9.1"
  }
 },
 "nbformat": 4,
 "nbformat_minor": 5
}
