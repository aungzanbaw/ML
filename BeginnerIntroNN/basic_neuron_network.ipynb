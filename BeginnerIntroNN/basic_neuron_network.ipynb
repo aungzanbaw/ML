{
 "cells": [
  {
   "cell_type": "code",
   "execution_count": 29,
   "id": "4b733962",
   "metadata": {},
   "outputs": [],
   "source": [
    "import numpy as np\n",
    "import math"
   ]
  },
  {
   "cell_type": "code",
   "execution_count": 51,
   "id": "48c28573",
   "metadata": {},
   "outputs": [],
   "source": [
    "def NN(w1, w2, d1, d2, b):\n",
    "    \"\"\"\n",
    "    Simple Neurone Network functiony using sigmoid as activation funtion\n",
    "    W = Weight\n",
    "    D = Data\n",
    "    B = Bias\n",
    "    \"\"\"\n",
    "    result = (w1 * d1) + (w2 * d2) + b\n",
    "    return sigmoid(result)\n",
    "\n",
    "def sigmoid(value):\n",
    "    \"\"\"\n",
    "    basic logistic sigmoid function that return range between 0-1\n",
    "    \"\"\"\n",
    "    return 1 / (1 + np.exp(-value))"
   ]
  },
  {
   "cell_type": "code",
   "execution_count": 14,
   "id": "01d35e07",
   "metadata": {},
   "outputs": [],
   "source": [
    "# Random assignment for all weights and biases \n",
    "w1 = np.random.randn()\n",
    "w2 = np.random.randn()\n",
    "b = np.random.randn()\n",
    "\n",
    "# Assume we have 2 dimension data and ground truth (classification)\n",
    "data_values = [[3,1.5,1],\n",
    "        [2,1,0],\n",
    "        [4,1.5,1],\n",
    "        [3,1,0],\n",
    "        [3.6,1,1],\n",
    "        [2,0.5,0],\n",
    "        [5.5,1,1],\n",
    "        [1,1,0]]"
   ]
  },
  {
   "cell_type": "code",
   "execution_count": 66,
   "id": "612a9079",
   "metadata": {},
   "outputs": [
    {
     "name": "stdout",
     "output_type": "stream",
     "text": [
      "0.30005041784766556\n",
      "0.373289704317333\n",
      "0.2585223568602999\n",
      "0.3263512392115112\n",
      "0.2997061256325443\n",
      "0.40232030831357785\n",
      "0.22421895982567167\n",
      "0.42274266112111475\n"
     ]
    }
   ],
   "source": [
    "for data in data_values: \n",
    "    print(NN(w1,w2,data[0],data[1],b))"
   ]
  },
  {
   "cell_type": "code",
   "execution_count": 63,
   "id": "ab3a7452",
   "metadata": {},
   "outputs": [
    {
     "data": {
      "text/plain": [
       "0.9999999999997455"
      ]
     },
     "execution_count": 63,
     "metadata": {},
     "output_type": "execute_result"
    }
   ],
   "source": []
  },
  {
   "cell_type": "code",
   "execution_count": 56,
   "id": "51abb13c-126c-4da2-a840-6c93f7cf452b",
   "metadata": {},
   "outputs": [
    {
     "data": {
      "text/plain": [
       "0.04742587317756678"
      ]
     },
     "execution_count": 56,
     "metadata": {},
     "output_type": "execute_result"
    }
   ],
   "source": []
  }
 ],
 "metadata": {
  "kernelspec": {
   "display_name": "Python 3.7.6 64-bit",
   "language": "python",
   "name": "python37664bit52c43a8b57e04c11b7ae243a4050fcee"
  },
  "language_info": {
   "codemirror_mode": {
    "name": "ipython",
    "version": 3
   },
   "file_extension": ".py",
   "mimetype": "text/x-python",
   "name": "python",
   "nbconvert_exporter": "python",
   "pygments_lexer": "ipython3",
   "version": "3.9.1"
  }
 },
 "nbformat": 4,
 "nbformat_minor": 5
}
