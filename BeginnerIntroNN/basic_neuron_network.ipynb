{
 "cells": [
  {
   "cell_type": "code",
   "execution_count": 2,
   "id": "4b733962",
   "metadata": {},
   "outputs": [],
   "source": [
    "import numpy as np"
   ]
  },
  {
   "cell_type": "code",
   "execution_count": 4,
   "id": "48c28573",
   "metadata": {},
   "outputs": [],
   "source": [
    "def NN(w1, w2, d1, d2, b):\n",
    "    \"\"\"\n",
    "    Simple Neurone Network functiony using sigmoid as activation funtion\n",
    "    W = Weight\n",
    "    D = Data\n",
    "    B = Bias\n",
    "    \"\"\"\n",
    "    result = (w1 * d1) + (w2 * d2) + b\n",
    "    return sigmoid(result)\n",
    "\n",
    "def sigmoid(value):\n",
    "    \"\"\"\n",
    "    basic sigmoid function that return range between 0-1\n",
    "    \"\"\"\n",
    "    return 1 / 1 + np.exp(-value)"
   ]
  },
  {
   "cell_type": "code",
   "execution_count": null,
   "id": "01d35e07",
   "metadata": {},
   "outputs": [],
   "source": []
  },
  {
   "cell_type": "code",
   "execution_count": null,
   "id": "612a9079",
   "metadata": {},
   "outputs": [],
   "source": []
  },
  {
   "cell_type": "code",
   "execution_count": null,
   "id": "ab3a7452",
   "metadata": {},
   "outputs": [],
   "source": []
  },
  {
   "cell_type": "code",
   "execution_count": null,
   "id": "51abb13c-126c-4da2-a840-6c93f7cf452b",
   "metadata": {},
   "outputs": [],
   "source": []
  }
 ],
 "metadata": {
  "kernelspec": {
   "display_name": "Python 3.7.6 64-bit",
   "language": "python",
   "name": "python37664bit52c43a8b57e04c11b7ae243a4050fcee"
  },
  "language_info": {
   "codemirror_mode": {
    "name": "ipython",
    "version": 3
   },
   "file_extension": ".py",
   "mimetype": "text/x-python",
   "name": "python",
   "nbconvert_exporter": "python",
   "pygments_lexer": "ipython3",
   "version": "3.9.1"
  }
 },
 "nbformat": 4,
 "nbformat_minor": 5
}
