{
 "cells": [
  {
   "cell_type": "code",
   "execution_count": 2,
   "id": "58e8ab76-9711-490a-938c-54280b0f7bec",
   "metadata": {},
   "outputs": [],
   "source": [
    "import numpy as np\n",
    "Food = np.array([[56.0, 0.0, 4.4, 68.0],\n",
    "                 [1.2, 104.0, 52.0, 8.0],\n",
    "                 [1.8, 135.0, 99.0, 0.9]])"
   ]
  },
  {
   "cell_type": "code",
   "execution_count": 4,
   "id": "e0e3c51b-6123-4516-a857-bcb96c615593",
   "metadata": {},
   "outputs": [
    {
     "name": "stdout",
     "output_type": "stream",
     "text": [
      "[[94.91525424  0.          2.83140283 88.42652796]\n",
      " [ 2.03389831 43.51464435 33.46203346 10.40312094]\n",
      " [ 3.05084746 56.48535565 63.70656371  1.17035111]]\n"
     ]
    }
   ],
   "source": [
    "cal = Food.sum(axis=0)\n",
    "percentage = 100 * Food/cal.reshape(1,4)\n",
    "print(percentage) # finding calories in terms of fat, protein & carb"
   ]
  },
  {
   "cell_type": "code",
   "execution_count": 37,
   "id": "fab9137b-2b09-42b5-9d76-bacf26c3f832",
   "metadata": {},
   "outputs": [
    {
     "name": "stdout",
     "output_type": "stream",
     "text": [
      "Simple Column broadcasting\n",
      " [[100]\n",
      " [200]\n",
      " [300]\n",
      " [400]]\n",
      "\n",
      "Simple Row broadcasting\n",
      " [100 200 300 400]\n",
      "\n",
      "Column with row broadcasting\n",
      " [[ 100  200  300]\n",
      " [ 200  400  600]\n",
      " [ 300  600  900]\n",
      " [ 400  800 1200]]\n",
      "\n",
      "Row with column broadcasting\n",
      " [[ 100  200  300  400]\n",
      " [ 200  400  600  800]\n",
      " [ 300  600  900 1200]]\n"
     ]
    }
   ],
   "source": [
    "# Boradcasting 101\n",
    "column = np.array([[1],[2],[3],[4]]) # 4x1\n",
    "row = np.array([1,2,3,4]) # 1x4\n",
    "mix = np.array([[1,2,3],[4,5,6]])\n",
    "\n",
    "print('Simple Column broadcasting\\n',column * 100)\n",
    "print('\\nSimple Row broadcasting\\n',row * 100)\n",
    "\n",
    "print('\\nColumn with row broadcasting\\n', column * np.array([100,200,300])) # 1x4 * 3x1 = 4x3\n",
    "print('\\nRow with column broadcasting\\n',row * np.array([[100],[200],[300]])) # 1x1"
   ]
  },
  {
   "cell_type": "code",
   "execution_count": 14,
   "id": "d4b4ee04-cb7b-4943-a2ed-5731a5353543",
   "metadata": {},
   "outputs": [
    {
     "name": "stdout",
     "output_type": "stream",
     "text": [
      "[ 2.22318702 -0.37733579 -0.02733205 -1.63862476  0.04764803]\n",
      "(5,)\n",
      "[ 2.22318702 -0.37733579 -0.02733205 -1.63862476  0.04764803]\n",
      "[[-0.19098049]\n",
      " [-1.59840929]\n",
      " [ 0.92032042]\n",
      " [ 1.05918303]\n",
      " [-1.4886167 ]]\n",
      "(5, 1)\n",
      "[[-0.19098049 -1.59840929  0.92032042  1.05918303 -1.4886167 ]]\n",
      "[[ 0.03647355  0.305265   -0.17576325 -0.2022833   0.28429675]\n",
      " [ 0.305265    2.55491225 -1.4710487  -1.69300799  2.37941876]\n",
      " [-0.17576325 -1.4710487   0.84698967  0.97478777 -1.37000434]\n",
      " [-0.2022833  -1.69300799  0.97478777  1.1218687  -1.57671755]\n",
      " [ 0.28429675  2.37941876 -1.37000434 -1.57671755  2.21597969]]\n"
     ]
    }
   ],
   "source": [
    "# Rank 1 array\n",
    "a = np.random.randn(5)\n",
    "print(a)\n",
    "print(a.shape)\n",
    "print(a.T, end='\\n')\n",
    "\n",
    "b = np.random.randn(5,1)\n",
    "print(b)\n",
    "print(b.shape)\n",
    "print(b.T)\n",
    "\n",
    "print(np.dot(b,b.T))"
   ]
  },
  {
   "cell_type": "code",
   "execution_count": 18,
   "id": "99a6493b-76a6-4bc6-81d7-c4d0925bbdf5",
   "metadata": {},
   "outputs": [
    {
     "name": "stdout",
     "output_type": "stream",
     "text": [
      "(5,) (5, 1) (1, 5)\n",
      "[[-0.31459268  2.38790577  0.34502484  0.93410049 -0.89169761]]\n"
     ]
    }
   ],
   "source": [
    "# Rank 1 array \n",
    "rank = np.random.randn(5)\n",
    "column = np.random.randn(5,1)\n",
    "row = np.random.randn(1,5)\n",
    "print(np.shape(rank), np.shape(column), np.shape(row)) # we did similar on above code block"
   ]
  }
 ],
 "metadata": {
  "kernelspec": {
   "display_name": "Python 3.7.6 64-bit",
   "language": "python",
   "name": "python37664bit52c43a8b57e04c11b7ae243a4050fcee"
  },
  "language_info": {
   "codemirror_mode": {
    "name": "ipython",
    "version": 3
   },
   "file_extension": ".py",
   "mimetype": "text/x-python",
   "name": "python",
   "nbconvert_exporter": "python",
   "pygments_lexer": "ipython3",
   "version": "3.9.1"
  }
 },
 "nbformat": 4,
 "nbformat_minor": 5
}
