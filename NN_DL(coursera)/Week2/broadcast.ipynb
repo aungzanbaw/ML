{
 "cells": [
  {
   "cell_type": "code",
   "execution_count": 1,
   "id": "58e8ab76-9711-490a-938c-54280b0f7bec",
   "metadata": {},
   "outputs": [
    {
     "name": "stdout",
     "output_type": "stream",
     "text": [
      "[[ 56.    0.    4.4  68. ]\n",
      " [  1.2 104.   52.    8. ]\n",
      " [  1.8 135.   99.    0.9]]\n"
     ]
    }
   ],
   "source": [
    "import numpy as np\n",
    "Food = np.array([[56.0, 0.0, 4.4, 68.0],\n",
    "                 [1.2, 104.0, 52.0, 8.0],\n",
    "                 [1.8, 135.0, 99.0, 0.9]])"
   ]
  },
  {
   "cell_type": "code",
   "execution_count": 4,
   "id": "e0e3c51b-6123-4516-a857-bcb96c615593",
   "metadata": {},
   "outputs": [
    {
     "name": "stdout",
     "output_type": "stream",
     "text": [
      "[[94.91525424  0.          2.83140283 88.42652796]\n",
      " [ 2.03389831 43.51464435 33.46203346 10.40312094]\n",
      " [ 3.05084746 56.48535565 63.70656371  1.17035111]]\n"
     ]
    }
   ],
   "source": [
    "cal = Food.sum(axis=0)\n",
    "percentage = 100 * Food/cal.reshape(1,4)\n",
    "print(percentage) # finding calories in terms of fat, protein & carb"
   ]
  },
  {
   "cell_type": "code",
   "execution_count": 37,
   "id": "fab9137b-2b09-42b5-9d76-bacf26c3f832",
   "metadata": {},
   "outputs": [
    {
     "name": "stdout",
     "output_type": "stream",
     "text": [
      "Simple Column broadcasting\n",
      " [[100]\n",
      " [200]\n",
      " [300]\n",
      " [400]]\n",
      "\n",
      "Simple Row broadcasting\n",
      " [100 200 300 400]\n",
      "\n",
      "Column with row broadcasting\n",
      " [[ 100  200  300]\n",
      " [ 200  400  600]\n",
      " [ 300  600  900]\n",
      " [ 400  800 1200]]\n",
      "\n",
      "Row with column broadcasting\n",
      " [[ 100  200  300  400]\n",
      " [ 200  400  600  800]\n",
      " [ 300  600  900 1200]]\n"
     ]
    }
   ],
   "source": [
    "# Boradcasting 101\n",
    "column = np.array([[1],[2],[3],[4]]) # 1x4\n",
    "row = np.array([1,2,3,4]) # 1x4\n",
    "mix = np.array([[1,2,3],[4,5,6]])\n",
    "\n",
    "print('Simple Column broadcasting\\n',column * 100)\n",
    "print('\\nSimple Row broadcasting\\n',row * 100)\n",
    "\n",
    "print('\\nColumn with row broadcasting\\n', column * np.array([100,200,300]))\n",
    "print('\\nRow with column broadcasting\\n',row * np.array([[100],[200],[300]]))"
   ]
  }
 ],
 "metadata": {
  "kernelspec": {
   "display_name": "Python 3.7.6 64-bit",
   "language": "python",
   "name": "python37664bit52c43a8b57e04c11b7ae243a4050fcee"
  },
  "language_info": {
   "codemirror_mode": {
    "name": "ipython",
    "version": 3
   },
   "file_extension": ".py",
   "mimetype": "text/x-python",
   "name": "python",
   "nbconvert_exporter": "python",
   "pygments_lexer": "ipython3",
   "version": "3.9.1"
  }
 },
 "nbformat": 4,
 "nbformat_minor": 5
}
